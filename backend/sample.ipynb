{
 "cells": [
  {
   "cell_type": "code",
   "execution_count": 1,
   "id": "7177455e",
   "metadata": {},
   "outputs": [],
   "source": [
    "import pandas as pd\n",
    "df = pd.read_csv('../data/threats.csv')"
   ]
  },
  {
   "cell_type": "code",
   "execution_count": 2,
   "id": "3023ce11",
   "metadata": {},
   "outputs": [
    {
     "data": {
      "text/plain": [
       "Index(['Threat Category', 'IOCs (Indicators of Compromise)', 'Threat Actor',\n",
       "       'Attack Vector', 'Geographical Location', 'Sentiment in Forums',\n",
       "       'Severity Score', 'Predicted Threat Category',\n",
       "       'Suggested Defense Mechanism', 'Risk Level Prediction',\n",
       "       'Cleaned Threat Description', 'Keyword Extraction',\n",
       "       'Named Entities (NER)', 'Topic Modeling Labels', 'Word Count'],\n",
       "      dtype='object')"
      ]
     },
     "execution_count": 2,
     "metadata": {},
     "output_type": "execute_result"
    }
   ],
   "source": [
    "df.columns"
   ]
  },
  {
   "cell_type": "code",
   "execution_count": 3,
   "id": "d1d297c7",
   "metadata": {},
   "outputs": [
    {
     "name": "stdout",
     "output_type": "stream",
     "text": [
      "Threat Category\n",
      "Malware       68\n",
      "Ransomware    57\n",
      "Phishing      52\n",
      "DDoS          44\n",
      "Name: count, dtype: int64\n"
     ]
    }
   ],
   "source": [
    "desc = \"ransomware attack through network vulnerability\"\n",
    "filtered_df = df[df[\"Cleaned Threat Description\"] == desc]\n",
    "category_counts = filtered_df[\"Threat Category\"].value_counts()\n",
    "print(category_counts)"
   ]
  },
  {
   "cell_type": "code",
   "execution_count": 9,
   "id": "aa250e73",
   "metadata": {},
   "outputs": [],
   "source": [
    "descriptions = df['Cleaned Threat Description'].unique()"
   ]
  },
  {
   "cell_type": "code",
   "execution_count": 10,
   "id": "235bb563",
   "metadata": {},
   "outputs": [
    {
     "data": {
      "text/plain": [
       "array(['ransomware attack through network vulnerability',\n",
       "       'phishing email with malicious link',\n",
       "       'phishing scam targeting corporate accounts',\n",
       "       'distributed denial of service attack on public website',\n",
       "       'malware detected in email attachment'], dtype=object)"
      ]
     },
     "execution_count": 10,
     "metadata": {},
     "output_type": "execute_result"
    }
   ],
   "source": [
    "descriptions"
   ]
  },
  {
   "cell_type": "code",
   "execution_count": 13,
   "id": "616523dc",
   "metadata": {},
   "outputs": [
    {
     "name": "stdout",
     "output_type": "stream",
     "text": [
      "Description :  ransomware attack through network vulnerability\n",
      "Threat Category\n",
      "Malware       68\n",
      "Ransomware    57\n",
      "Phishing      52\n",
      "DDoS          44\n",
      "Name: count, dtype: int64\n",
      "Description :  phishing email with malicious link\n",
      "Threat Category\n",
      "Ransomware    61\n",
      "Malware       59\n",
      "DDoS          54\n",
      "Phishing      50\n",
      "Name: count, dtype: int64\n",
      "Description :  phishing scam targeting corporate accounts\n",
      "Threat Category\n",
      "Malware       64\n",
      "Phishing      60\n",
      "DDoS          55\n",
      "Ransomware    53\n",
      "Name: count, dtype: int64\n",
      "Description :  distributed denial of service attack on public website\n",
      "Threat Category\n",
      "Phishing      71\n",
      "DDoS          58\n",
      "Malware       53\n",
      "Ransomware    40\n",
      "Name: count, dtype: int64\n",
      "Description :  malware detected in email attachment\n",
      "Threat Category\n",
      "Phishing      63\n",
      "Malware       50\n",
      "Ransomware    45\n",
      "DDoS          43\n",
      "Name: count, dtype: int64\n"
     ]
    }
   ],
   "source": [
    "for desc in descriptions :\n",
    "    filtered_df = df[df[\"Cleaned Threat Description\"] == desc]\n",
    "    category_counts = filtered_df[\"Threat Category\"].value_counts()\n",
    "    print('Description : ', desc)\n",
    "    print(category_counts)"
   ]
  },
  {
   "cell_type": "code",
   "execution_count": null,
   "id": "072bd542",
   "metadata": {},
   "outputs": [],
   "source": []
  }
 ],
 "metadata": {
  "kernelspec": {
   "display_name": "ml_env",
   "language": "python",
   "name": "python3"
  },
  "language_info": {
   "codemirror_mode": {
    "name": "ipython",
    "version": 3
   },
   "file_extension": ".py",
   "mimetype": "text/x-python",
   "name": "python",
   "nbconvert_exporter": "python",
   "pygments_lexer": "ipython3",
   "version": "3.11.11"
  }
 },
 "nbformat": 4,
 "nbformat_minor": 5
}
